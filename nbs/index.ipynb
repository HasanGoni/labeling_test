{
 "cells": [
  {
   "cell_type": "code",
   "execution_count": null,
   "metadata": {},
   "outputs": [
    {
     "ename": "ModuleNotFoundError",
     "evalue": "No module named 'labeling_test'",
     "output_type": "error",
     "traceback": [
      "\u001b[0;31m---------------------------------------------------------------------------\u001b[0m",
      "\u001b[0;31mModuleNotFoundError\u001b[0m                       Traceback (most recent call last)",
      "Cell \u001b[0;32mIn[10], line 2\u001b[0m\n\u001b[1;32m      1\u001b[0m \u001b[38;5;66;03m#| hide\u001b[39;00m\n\u001b[0;32m----> 2\u001b[0m \u001b[38;5;28;01mfrom\u001b[39;00m \u001b[38;5;21;01mlabeling_test\u001b[39;00m\u001b[38;5;21;01m.\u001b[39;00m\u001b[38;5;21;01mcore\u001b[39;00m \u001b[38;5;28;01mimport\u001b[39;00m \u001b[38;5;241m*\u001b[39m\n\u001b[1;32m      3\u001b[0m \u001b[38;5;66;03m#from labeling_test.os_persam import *\u001b[39;00m\n",
      "\u001b[0;31mModuleNotFoundError\u001b[0m: No module named 'labeling_test'"
     ]
    }
   ],
   "source": [
    "#| hide\n",
    "from labeling_test.core import *\n",
    "#from labeling_test.os_persam import *\n"
   ]
  },
  {
   "cell_type": "markdown",
   "metadata": {},
   "source": [
    "# labeling_test\n",
    "\n",
    "> different tool for automation process of labeling will be tested here"
   ]
  },
  {
   "cell_type": "markdown",
   "metadata": {},
   "source": [
    "This repo code mostly taken from [here](https://github.com/NielsRogge/Transformers-Tutorials/blob/master/PerSAM/Personalize_SAM_with_one_shot_using_Hugging_Face.ipynb)"
   ]
  },
  {
   "cell_type": "markdown",
   "metadata": {},
   "source": [
    "## Install"
   ]
  },
  {
   "cell_type": "markdown",
   "metadata": {},
   "source": [
    "```sh\n",
    "git clone git@github.com:HasanGoni/labeling_test.git\n",
    "cd labelling_test\n",
    "pip install -e .\n",
    "```"
   ]
  },
  {
   "cell_type": "code",
   "execution_count": null,
   "metadata": {},
   "outputs": [
    {
     "name": "stderr",
     "output_type": "stream",
     "text": [
      "2024-01-07 21:07:27.180831: E external/local_xla/xla/stream_executor/cuda/cuda_dnn.cc:9261] Unable to register cuDNN factory: Attempting to register factory for plugin cuDNN when one has already been registered\n",
      "2024-01-07 21:07:27.180875: E external/local_xla/xla/stream_executor/cuda/cuda_fft.cc:607] Unable to register cuFFT factory: Attempting to register factory for plugin cuFFT when one has already been registered\n",
      "2024-01-07 21:07:27.181643: E external/local_xla/xla/stream_executor/cuda/cuda_blas.cc:1515] Unable to register cuBLAS factory: Attempting to register factory for plugin cuBLAS when one has already been registered\n",
      "2024-01-07 21:07:27.187262: I tensorflow/core/platform/cpu_feature_guard.cc:182] This TensorFlow binary is optimized to use available CPU instructions in performance-critical operations.\n",
      "To enable the following instructions: AVX2 FMA, in other operations, rebuild TensorFlow with the appropriate compiler flags.\n",
      "2024-01-07 21:07:27.750938: W tensorflow/compiler/tf2tensorrt/utils/py_utils.cc:38] TF-TRT Warning: Could not find TensorRT\n"
     ]
    }
   ],
   "source": [
    "from huggingface_hub import hf_hub_download\n",
    "from PIL import Image\n",
    "import cv2\n",
    "import matplotlib.pyplot as plt\n",
    "import torch\n",
    "import torch.nn.functional as F\n",
    "from torchvision.transforms.functional import resize, to_pil_image\n",
    "import numpy as  np\n",
    "from pathlib import Path\n",
    "from typing import Tuple, List, Union\n",
    "from transformers import AutoProcessor, SamModel"
   ]
  },
  {
   "cell_type": "markdown",
   "metadata": {},
   "source": [
    "## How to use"
   ]
  },
  {
   "cell_type": "markdown",
   "metadata": {},
   "source": [
    "## Get data"
   ]
  },
  {
   "cell_type": "code",
   "execution_count": null,
   "metadata": {},
   "outputs": [],
   "source": [
    "# Downloading from Niels_rogge hugging face repo\n",
    "# image file\n",
    "file_name = hf_hub_download(repo_id=\"nielsr/persam-dog\", filename=\"dog.jpg\", repo_type=\"dataset\")\n",
    "# image mask file\n",
    "m_file_name = hf_hub_download(repo_id=\"nielsr/persam-dog\", filename=\"dog_mask.png\", repo_type=\"dataset\")\n",
    "tst_im_path = hf_hub_download(\n",
    "    repo_id=\"nielsr/persam-dog\", \n",
    "    filename=\"new_dog.jpg\", \n",
    "    repo_type=\"dataset\")\n",
    "\n",
    "ref_image = Image.open(file_name).convert('RGB')\n",
    "ref_mask = cv2.imread(m_file_name)\n",
    "ref_mask = cv2.cvtColor(ref_mask, cv2.COLOR_BGR2RGB)\n",
    "tst_img = Image.open(tst_im_path).convert('RGB')"
   ]
  },
  {
   "cell_type": "markdown",
   "metadata": {},
   "source": [
    "### getting model"
   ]
  },
  {
   "cell_type": "code",
   "execution_count": null,
   "metadata": {},
   "outputs": [],
   "source": [
    "processor = AutoProcessor.from_pretrained(\"facebook/sam-vit-huge\")\n",
    "# model = PerSamModel.from_pretrained(\"facebook/sam-vit-huge\")\n",
    "model = SamModel.from_pretrained(\"facebook/sam-vit-huge\")\n",
    "     "
   ]
  },
  {
   "cell_type": "markdown",
   "metadata": {},
   "source": [
    "### getting first prediciton mask "
   ]
  },
  {
   "cell_type": "code",
   "execution_count": null,
   "metadata": {},
   "outputs": [
    {
     "ename": "NameError",
     "evalue": "name 'get_first_prediction' is not defined",
     "output_type": "error",
     "traceback": [
      "\u001b[0;31m---------------------------------------------------------------------------\u001b[0m",
      "\u001b[0;31mNameError\u001b[0m                                 Traceback (most recent call last)",
      "Cell \u001b[0;32mIn[7], line 1\u001b[0m\n\u001b[0;32m----> 1\u001b[0m outputs, tst_feat,topk_xy, topk_label, input_sam, best_idx \u001b[38;5;241m=\u001b[39m \u001b[43mget_first_prediction\u001b[49m(\n\u001b[1;32m      2\u001b[0m                                         ref_img\u001b[38;5;241m=\u001b[39mref_image,\n\u001b[1;32m      3\u001b[0m                                         ref_msk\u001b[38;5;241m=\u001b[39mref_mask,\n\u001b[1;32m      4\u001b[0m                                         tst_img\u001b[38;5;241m=\u001b[39mtst_img,\n\u001b[1;32m      5\u001b[0m                                         model\u001b[38;5;241m=\u001b[39mmodel,\n\u001b[1;32m      6\u001b[0m                                         processor\u001b[38;5;241m=\u001b[39mprocessor, print_\u001b[38;5;241m=\u001b[39m\u001b[38;5;28;01mFalse\u001b[39;00m)\n",
      "\u001b[0;31mNameError\u001b[0m: name 'get_first_prediction' is not defined"
     ]
    }
   ],
   "source": [
    "outputs, tst_feat,topk_xy, topk_label, input_sam, best_idx = get_first_prediction(\n",
    "                                        ref_img=ref_image,\n",
    "                                        ref_msk=ref_mask,\n",
    "                                        tst_img=tst_img,\n",
    "                                        model=model,\n",
    "                                        processor=processor, print_=False)\n"
   ]
  },
  {
   "cell_type": "code",
   "execution_count": null,
   "metadata": {},
   "outputs": [],
   "source": []
  }
 ],
 "metadata": {
  "kernelspec": {
   "display_name": "python3",
   "language": "python",
   "name": "python3"
  }
 },
 "nbformat": 4,
 "nbformat_minor": 4
}
